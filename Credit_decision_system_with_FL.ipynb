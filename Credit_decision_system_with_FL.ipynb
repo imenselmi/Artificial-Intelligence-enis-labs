{
  "nbformat": 4,
  "nbformat_minor": 0,
  "metadata": {
    "colab": {
      "name": "Credit decision system with FL.ipynb",
      "provenance": [],
      "collapsed_sections": []
    },
    "kernelspec": {
      "name": "python3",
      "display_name": "Python 3"
    },
    "language_info": {
      "name": "python"
    }
  },
  "cells": [
    {
      "cell_type": "markdown",
      "metadata": {
        "id": "tj0xrJkQoWZS"
      },
      "source": [
        "#Credit Decision System with Fuzzy Logic"
      ]
    },
    {
      "cell_type": "markdown",
      "metadata": {
        "id": "mQ1c2SJkoPw0"
      },
      "source": [
        "# Install Fuzzy library"
      ]
    },
    {
      "cell_type": "code",
      "metadata": {
        "colab": {
          "base_uri": "https://localhost:8080/"
        },
        "id": "IBfh1Tdmn7Qv",
        "outputId": "5633a4f7-de10-40f5-9abd-fb1b98784cf9"
      },
      "source": [
        "pip install scikit-fuzzy"
      ],
      "execution_count": null,
      "outputs": [
        {
          "output_type": "stream",
          "name": "stdout",
          "text": [
            "Collecting scikit-fuzzy\n",
            "  Downloading scikit-fuzzy-0.4.2.tar.gz (993 kB)\n",
            "\u001b[?25l\r\u001b[K     |▎                               | 10 kB 22.5 MB/s eta 0:00:01\r\u001b[K     |▋                               | 20 kB 28.0 MB/s eta 0:00:01\r\u001b[K     |█                               | 30 kB 13.4 MB/s eta 0:00:01\r\u001b[K     |█▎                              | 40 kB 9.8 MB/s eta 0:00:01\r\u001b[K     |█▋                              | 51 kB 5.4 MB/s eta 0:00:01\r\u001b[K     |██                              | 61 kB 6.0 MB/s eta 0:00:01\r\u001b[K     |██▎                             | 71 kB 5.7 MB/s eta 0:00:01\r\u001b[K     |██▋                             | 81 kB 6.4 MB/s eta 0:00:01\r\u001b[K     |███                             | 92 kB 4.8 MB/s eta 0:00:01\r\u001b[K     |███▎                            | 102 kB 5.2 MB/s eta 0:00:01\r\u001b[K     |███▋                            | 112 kB 5.2 MB/s eta 0:00:01\r\u001b[K     |████                            | 122 kB 5.2 MB/s eta 0:00:01\r\u001b[K     |████▎                           | 133 kB 5.2 MB/s eta 0:00:01\r\u001b[K     |████▋                           | 143 kB 5.2 MB/s eta 0:00:01\r\u001b[K     |█████                           | 153 kB 5.2 MB/s eta 0:00:01\r\u001b[K     |█████▎                          | 163 kB 5.2 MB/s eta 0:00:01\r\u001b[K     |█████▋                          | 174 kB 5.2 MB/s eta 0:00:01\r\u001b[K     |██████                          | 184 kB 5.2 MB/s eta 0:00:01\r\u001b[K     |██████▎                         | 194 kB 5.2 MB/s eta 0:00:01\r\u001b[K     |██████▋                         | 204 kB 5.2 MB/s eta 0:00:01\r\u001b[K     |███████                         | 215 kB 5.2 MB/s eta 0:00:01\r\u001b[K     |███████▎                        | 225 kB 5.2 MB/s eta 0:00:01\r\u001b[K     |███████▋                        | 235 kB 5.2 MB/s eta 0:00:01\r\u001b[K     |████████                        | 245 kB 5.2 MB/s eta 0:00:01\r\u001b[K     |████████▎                       | 256 kB 5.2 MB/s eta 0:00:01\r\u001b[K     |████████▋                       | 266 kB 5.2 MB/s eta 0:00:01\r\u001b[K     |█████████                       | 276 kB 5.2 MB/s eta 0:00:01\r\u001b[K     |█████████▎                      | 286 kB 5.2 MB/s eta 0:00:01\r\u001b[K     |█████████▋                      | 296 kB 5.2 MB/s eta 0:00:01\r\u001b[K     |██████████                      | 307 kB 5.2 MB/s eta 0:00:01\r\u001b[K     |██████████▏                     | 317 kB 5.2 MB/s eta 0:00:01\r\u001b[K     |██████████▌                     | 327 kB 5.2 MB/s eta 0:00:01\r\u001b[K     |██████████▉                     | 337 kB 5.2 MB/s eta 0:00:01\r\u001b[K     |███████████▏                    | 348 kB 5.2 MB/s eta 0:00:01\r\u001b[K     |███████████▌                    | 358 kB 5.2 MB/s eta 0:00:01\r\u001b[K     |███████████▉                    | 368 kB 5.2 MB/s eta 0:00:01\r\u001b[K     |████████████▏                   | 378 kB 5.2 MB/s eta 0:00:01\r\u001b[K     |████████████▌                   | 389 kB 5.2 MB/s eta 0:00:01\r\u001b[K     |████████████▉                   | 399 kB 5.2 MB/s eta 0:00:01\r\u001b[K     |█████████████▏                  | 409 kB 5.2 MB/s eta 0:00:01\r\u001b[K     |█████████████▌                  | 419 kB 5.2 MB/s eta 0:00:01\r\u001b[K     |█████████████▉                  | 430 kB 5.2 MB/s eta 0:00:01\r\u001b[K     |██████████████▏                 | 440 kB 5.2 MB/s eta 0:00:01\r\u001b[K     |██████████████▌                 | 450 kB 5.2 MB/s eta 0:00:01\r\u001b[K     |██████████████▉                 | 460 kB 5.2 MB/s eta 0:00:01\r\u001b[K     |███████████████▏                | 471 kB 5.2 MB/s eta 0:00:01\r\u001b[K     |███████████████▌                | 481 kB 5.2 MB/s eta 0:00:01\r\u001b[K     |███████████████▉                | 491 kB 5.2 MB/s eta 0:00:01\r\u001b[K     |████████████████▏               | 501 kB 5.2 MB/s eta 0:00:01\r\u001b[K     |████████████████▌               | 512 kB 5.2 MB/s eta 0:00:01\r\u001b[K     |████████████████▉               | 522 kB 5.2 MB/s eta 0:00:01\r\u001b[K     |█████████████████▏              | 532 kB 5.2 MB/s eta 0:00:01\r\u001b[K     |█████████████████▌              | 542 kB 5.2 MB/s eta 0:00:01\r\u001b[K     |█████████████████▉              | 552 kB 5.2 MB/s eta 0:00:01\r\u001b[K     |██████████████████▏             | 563 kB 5.2 MB/s eta 0:00:01\r\u001b[K     |██████████████████▌             | 573 kB 5.2 MB/s eta 0:00:01\r\u001b[K     |██████████████████▉             | 583 kB 5.2 MB/s eta 0:00:01\r\u001b[K     |███████████████████▏            | 593 kB 5.2 MB/s eta 0:00:01\r\u001b[K     |███████████████████▌            | 604 kB 5.2 MB/s eta 0:00:01\r\u001b[K     |███████████████████▉            | 614 kB 5.2 MB/s eta 0:00:01\r\u001b[K     |████████████████████            | 624 kB 5.2 MB/s eta 0:00:01\r\u001b[K     |████████████████████▍           | 634 kB 5.2 MB/s eta 0:00:01\r\u001b[K     |████████████████████▊           | 645 kB 5.2 MB/s eta 0:00:01\r\u001b[K     |█████████████████████           | 655 kB 5.2 MB/s eta 0:00:01\r\u001b[K     |█████████████████████▍          | 665 kB 5.2 MB/s eta 0:00:01\r\u001b[K     |█████████████████████▊          | 675 kB 5.2 MB/s eta 0:00:01\r\u001b[K     |██████████████████████          | 686 kB 5.2 MB/s eta 0:00:01\r\u001b[K     |██████████████████████▍         | 696 kB 5.2 MB/s eta 0:00:01\r\u001b[K     |██████████████████████▊         | 706 kB 5.2 MB/s eta 0:00:01\r\u001b[K     |███████████████████████         | 716 kB 5.2 MB/s eta 0:00:01\r\u001b[K     |███████████████████████▍        | 727 kB 5.2 MB/s eta 0:00:01\r\u001b[K     |███████████████████████▊        | 737 kB 5.2 MB/s eta 0:00:01\r\u001b[K     |████████████████████████        | 747 kB 5.2 MB/s eta 0:00:01\r\u001b[K     |████████████████████████▍       | 757 kB 5.2 MB/s eta 0:00:01\r\u001b[K     |████████████████████████▊       | 768 kB 5.2 MB/s eta 0:00:01\r\u001b[K     |█████████████████████████       | 778 kB 5.2 MB/s eta 0:00:01\r\u001b[K     |█████████████████████████▍      | 788 kB 5.2 MB/s eta 0:00:01\r\u001b[K     |█████████████████████████▊      | 798 kB 5.2 MB/s eta 0:00:01\r\u001b[K     |██████████████████████████      | 808 kB 5.2 MB/s eta 0:00:01\r\u001b[K     |██████████████████████████▍     | 819 kB 5.2 MB/s eta 0:00:01\r\u001b[K     |██████████████████████████▊     | 829 kB 5.2 MB/s eta 0:00:01\r\u001b[K     |███████████████████████████     | 839 kB 5.2 MB/s eta 0:00:01\r\u001b[K     |███████████████████████████▍    | 849 kB 5.2 MB/s eta 0:00:01\r\u001b[K     |███████████████████████████▊    | 860 kB 5.2 MB/s eta 0:00:01\r\u001b[K     |████████████████████████████    | 870 kB 5.2 MB/s eta 0:00:01\r\u001b[K     |████████████████████████████▍   | 880 kB 5.2 MB/s eta 0:00:01\r\u001b[K     |████████████████████████████▊   | 890 kB 5.2 MB/s eta 0:00:01\r\u001b[K     |█████████████████████████████   | 901 kB 5.2 MB/s eta 0:00:01\r\u001b[K     |█████████████████████████████▍  | 911 kB 5.2 MB/s eta 0:00:01\r\u001b[K     |█████████████████████████████▊  | 921 kB 5.2 MB/s eta 0:00:01\r\u001b[K     |██████████████████████████████  | 931 kB 5.2 MB/s eta 0:00:01\r\u001b[K     |██████████████████████████████▎ | 942 kB 5.2 MB/s eta 0:00:01\r\u001b[K     |██████████████████████████████▋ | 952 kB 5.2 MB/s eta 0:00:01\r\u001b[K     |███████████████████████████████ | 962 kB 5.2 MB/s eta 0:00:01\r\u001b[K     |███████████████████████████████▎| 972 kB 5.2 MB/s eta 0:00:01\r\u001b[K     |███████████████████████████████▋| 983 kB 5.2 MB/s eta 0:00:01\r\u001b[K     |████████████████████████████████| 993 kB 5.2 MB/s eta 0:00:01\r\u001b[K     |████████████████████████████████| 993 kB 5.2 MB/s \n",
            "\u001b[?25hRequirement already satisfied: numpy>=1.6.0 in /usr/local/lib/python3.7/dist-packages (from scikit-fuzzy) (1.19.5)\n",
            "Requirement already satisfied: scipy>=0.9.0 in /usr/local/lib/python3.7/dist-packages (from scikit-fuzzy) (1.4.1)\n",
            "Requirement already satisfied: networkx>=1.9.0 in /usr/local/lib/python3.7/dist-packages (from scikit-fuzzy) (2.6.3)\n",
            "Building wheels for collected packages: scikit-fuzzy\n",
            "  Building wheel for scikit-fuzzy (setup.py) ... \u001b[?25l\u001b[?25hdone\n",
            "  Created wheel for scikit-fuzzy: filename=scikit_fuzzy-0.4.2-py3-none-any.whl size=894089 sha256=82f19bf4c5259411194bfaa3fd38165c5caf97c9ad68f7ba6dc3c14e2c3ea7c4\n",
            "  Stored in directory: /root/.cache/pip/wheels/d5/74/fc/38588a3d2e3f34f74588e6daa3aa5b0a322bd6f9420a707131\n",
            "Successfully built scikit-fuzzy\n",
            "Installing collected packages: scikit-fuzzy\n",
            "Successfully installed scikit-fuzzy-0.4.2\n"
          ]
        }
      ]
    },
    {
      "cell_type": "code",
      "metadata": {
        "id": "oqt-COufhrCh"
      },
      "source": [
        "# needed libraries\n",
        "import numpy as np\n",
        "import skfuzzy as fuzz\n",
        "import matplotlib.pyplot as plt"
      ],
      "execution_count": null,
      "outputs": []
    },
    {
      "cell_type": "markdown",
      "metadata": {
        "id": "_7DgQiy8h6ca"
      },
      "source": [
        "# Fuzzy Input Set Ranges"
      ]
    },
    {
      "cell_type": "code",
      "metadata": {
        "id": "IcvsNYF9hsES"
      },
      "source": [
        "# ranges of the sets\n",
        "x_house_market = np.arange(0, 1000, 1) # Market value $ x10^3\n",
        "x_house_location = np.arange(0, 10, .01) # location of house\n",
        "x_person_asset = np.arange(0,1000, 1) # Asset $ x10^3\n",
        "x_person_income = np.arange(0,100, .1) # income $ x10^3\n",
        "x_interest = np.arange(0, 10, .01) # Interest %"
      ],
      "execution_count": null,
      "outputs": []
    },
    {
      "cell_type": "code",
      "metadata": {
        "colab": {
          "base_uri": "https://localhost:8080/"
        },
        "id": "psdXwCEOGe1S",
        "outputId": "8ae10736-0cea-483b-e75c-5922ec7647a8"
      },
      "source": [
        "print(x_house_market)"
      ],
      "execution_count": null,
      "outputs": [
        {
          "output_type": "stream",
          "name": "stdout",
          "text": [
            "[  0   1   2   3   4   5   6   7   8   9  10  11  12  13  14  15  16  17\n",
            "  18  19  20  21  22  23  24  25  26  27  28  29  30  31  32  33  34  35\n",
            "  36  37  38  39  40  41  42  43  44  45  46  47  48  49  50  51  52  53\n",
            "  54  55  56  57  58  59  60  61  62  63  64  65  66  67  68  69  70  71\n",
            "  72  73  74  75  76  77  78  79  80  81  82  83  84  85  86  87  88  89\n",
            "  90  91  92  93  94  95  96  97  98  99 100 101 102 103 104 105 106 107\n",
            " 108 109 110 111 112 113 114 115 116 117 118 119 120 121 122 123 124 125\n",
            " 126 127 128 129 130 131 132 133 134 135 136 137 138 139 140 141 142 143\n",
            " 144 145 146 147 148 149 150 151 152 153 154 155 156 157 158 159 160 161\n",
            " 162 163 164 165 166 167 168 169 170 171 172 173 174 175 176 177 178 179\n",
            " 180 181 182 183 184 185 186 187 188 189 190 191 192 193 194 195 196 197\n",
            " 198 199 200 201 202 203 204 205 206 207 208 209 210 211 212 213 214 215\n",
            " 216 217 218 219 220 221 222 223 224 225 226 227 228 229 230 231 232 233\n",
            " 234 235 236 237 238 239 240 241 242 243 244 245 246 247 248 249 250 251\n",
            " 252 253 254 255 256 257 258 259 260 261 262 263 264 265 266 267 268 269\n",
            " 270 271 272 273 274 275 276 277 278 279 280 281 282 283 284 285 286 287\n",
            " 288 289 290 291 292 293 294 295 296 297 298 299 300 301 302 303 304 305\n",
            " 306 307 308 309 310 311 312 313 314 315 316 317 318 319 320 321 322 323\n",
            " 324 325 326 327 328 329 330 331 332 333 334 335 336 337 338 339 340 341\n",
            " 342 343 344 345 346 347 348 349 350 351 352 353 354 355 356 357 358 359\n",
            " 360 361 362 363 364 365 366 367 368 369 370 371 372 373 374 375 376 377\n",
            " 378 379 380 381 382 383 384 385 386 387 388 389 390 391 392 393 394 395\n",
            " 396 397 398 399 400 401 402 403 404 405 406 407 408 409 410 411 412 413\n",
            " 414 415 416 417 418 419 420 421 422 423 424 425 426 427 428 429 430 431\n",
            " 432 433 434 435 436 437 438 439 440 441 442 443 444 445 446 447 448 449\n",
            " 450 451 452 453 454 455 456 457 458 459 460 461 462 463 464 465 466 467\n",
            " 468 469 470 471 472 473 474 475 476 477 478 479 480 481 482 483 484 485\n",
            " 486 487 488 489 490 491 492 493 494 495 496 497 498 499 500 501 502 503\n",
            " 504 505 506 507 508 509 510 511 512 513 514 515 516 517 518 519 520 521\n",
            " 522 523 524 525 526 527 528 529 530 531 532 533 534 535 536 537 538 539\n",
            " 540 541 542 543 544 545 546 547 548 549 550 551 552 553 554 555 556 557\n",
            " 558 559 560 561 562 563 564 565 566 567 568 569 570 571 572 573 574 575\n",
            " 576 577 578 579 580 581 582 583 584 585 586 587 588 589 590 591 592 593\n",
            " 594 595 596 597 598 599 600 601 602 603 604 605 606 607 608 609 610 611\n",
            " 612 613 614 615 616 617 618 619 620 621 622 623 624 625 626 627 628 629\n",
            " 630 631 632 633 634 635 636 637 638 639 640 641 642 643 644 645 646 647\n",
            " 648 649 650 651 652 653 654 655 656 657 658 659 660 661 662 663 664 665\n",
            " 666 667 668 669 670 671 672 673 674 675 676 677 678 679 680 681 682 683\n",
            " 684 685 686 687 688 689 690 691 692 693 694 695 696 697 698 699 700 701\n",
            " 702 703 704 705 706 707 708 709 710 711 712 713 714 715 716 717 718 719\n",
            " 720 721 722 723 724 725 726 727 728 729 730 731 732 733 734 735 736 737\n",
            " 738 739 740 741 742 743 744 745 746 747 748 749 750 751 752 753 754 755\n",
            " 756 757 758 759 760 761 762 763 764 765 766 767 768 769 770 771 772 773\n",
            " 774 775 776 777 778 779 780 781 782 783 784 785 786 787 788 789 790 791\n",
            " 792 793 794 795 796 797 798 799 800 801 802 803 804 805 806 807 808 809\n",
            " 810 811 812 813 814 815 816 817 818 819 820 821 822 823 824 825 826 827\n",
            " 828 829 830 831 832 833 834 835 836 837 838 839 840 841 842 843 844 845\n",
            " 846 847 848 849 850 851 852 853 854 855 856 857 858 859 860 861 862 863\n",
            " 864 865 866 867 868 869 870 871 872 873 874 875 876 877 878 879 880 881\n",
            " 882 883 884 885 886 887 888 889 890 891 892 893 894 895 896 897 898 899\n",
            " 900 901 902 903 904 905 906 907 908 909 910 911 912 913 914 915 916 917\n",
            " 918 919 920 921 922 923 924 925 926 927 928 929 930 931 932 933 934 935\n",
            " 936 937 938 939 940 941 942 943 944 945 946 947 948 949 950 951 952 953\n",
            " 954 955 956 957 958 959 960 961 962 963 964 965 966 967 968 969 970 971\n",
            " 972 973 974 975 976 977 978 979 980 981 982 983 984 985 986 987 988 989\n",
            " 990 991 992 993 994 995 996 997 998 999]\n"
          ]
        }
      ]
    },
    {
      "cell_type": "code",
      "metadata": {
        "colab": {
          "base_uri": "https://localhost:8080/"
        },
        "id": "hGdSgraFGk07",
        "outputId": "6764bff6-1a12-4040-c327-dfa75a1dc0c0"
      },
      "source": [
        "print(x_interest)"
      ],
      "execution_count": null,
      "outputs": [
        {
          "output_type": "stream",
          "name": "stdout",
          "text": [
            "[0.   0.01 0.02 0.03 0.04 0.05 0.06 0.07 0.08 0.09 0.1  0.11 0.12 0.13\n",
            " 0.14 0.15 0.16 0.17 0.18 0.19 0.2  0.21 0.22 0.23 0.24 0.25 0.26 0.27\n",
            " 0.28 0.29 0.3  0.31 0.32 0.33 0.34 0.35 0.36 0.37 0.38 0.39 0.4  0.41\n",
            " 0.42 0.43 0.44 0.45 0.46 0.47 0.48 0.49 0.5  0.51 0.52 0.53 0.54 0.55\n",
            " 0.56 0.57 0.58 0.59 0.6  0.61 0.62 0.63 0.64 0.65 0.66 0.67 0.68 0.69\n",
            " 0.7  0.71 0.72 0.73 0.74 0.75 0.76 0.77 0.78 0.79 0.8  0.81 0.82 0.83\n",
            " 0.84 0.85 0.86 0.87 0.88 0.89 0.9  0.91 0.92 0.93 0.94 0.95 0.96 0.97\n",
            " 0.98 0.99 1.   1.01 1.02 1.03 1.04 1.05 1.06 1.07 1.08 1.09 1.1  1.11\n",
            " 1.12 1.13 1.14 1.15 1.16 1.17 1.18 1.19 1.2  1.21 1.22 1.23 1.24 1.25\n",
            " 1.26 1.27 1.28 1.29 1.3  1.31 1.32 1.33 1.34 1.35 1.36 1.37 1.38 1.39\n",
            " 1.4  1.41 1.42 1.43 1.44 1.45 1.46 1.47 1.48 1.49 1.5  1.51 1.52 1.53\n",
            " 1.54 1.55 1.56 1.57 1.58 1.59 1.6  1.61 1.62 1.63 1.64 1.65 1.66 1.67\n",
            " 1.68 1.69 1.7  1.71 1.72 1.73 1.74 1.75 1.76 1.77 1.78 1.79 1.8  1.81\n",
            " 1.82 1.83 1.84 1.85 1.86 1.87 1.88 1.89 1.9  1.91 1.92 1.93 1.94 1.95\n",
            " 1.96 1.97 1.98 1.99 2.   2.01 2.02 2.03 2.04 2.05 2.06 2.07 2.08 2.09\n",
            " 2.1  2.11 2.12 2.13 2.14 2.15 2.16 2.17 2.18 2.19 2.2  2.21 2.22 2.23\n",
            " 2.24 2.25 2.26 2.27 2.28 2.29 2.3  2.31 2.32 2.33 2.34 2.35 2.36 2.37\n",
            " 2.38 2.39 2.4  2.41 2.42 2.43 2.44 2.45 2.46 2.47 2.48 2.49 2.5  2.51\n",
            " 2.52 2.53 2.54 2.55 2.56 2.57 2.58 2.59 2.6  2.61 2.62 2.63 2.64 2.65\n",
            " 2.66 2.67 2.68 2.69 2.7  2.71 2.72 2.73 2.74 2.75 2.76 2.77 2.78 2.79\n",
            " 2.8  2.81 2.82 2.83 2.84 2.85 2.86 2.87 2.88 2.89 2.9  2.91 2.92 2.93\n",
            " 2.94 2.95 2.96 2.97 2.98 2.99 3.   3.01 3.02 3.03 3.04 3.05 3.06 3.07\n",
            " 3.08 3.09 3.1  3.11 3.12 3.13 3.14 3.15 3.16 3.17 3.18 3.19 3.2  3.21\n",
            " 3.22 3.23 3.24 3.25 3.26 3.27 3.28 3.29 3.3  3.31 3.32 3.33 3.34 3.35\n",
            " 3.36 3.37 3.38 3.39 3.4  3.41 3.42 3.43 3.44 3.45 3.46 3.47 3.48 3.49\n",
            " 3.5  3.51 3.52 3.53 3.54 3.55 3.56 3.57 3.58 3.59 3.6  3.61 3.62 3.63\n",
            " 3.64 3.65 3.66 3.67 3.68 3.69 3.7  3.71 3.72 3.73 3.74 3.75 3.76 3.77\n",
            " 3.78 3.79 3.8  3.81 3.82 3.83 3.84 3.85 3.86 3.87 3.88 3.89 3.9  3.91\n",
            " 3.92 3.93 3.94 3.95 3.96 3.97 3.98 3.99 4.   4.01 4.02 4.03 4.04 4.05\n",
            " 4.06 4.07 4.08 4.09 4.1  4.11 4.12 4.13 4.14 4.15 4.16 4.17 4.18 4.19\n",
            " 4.2  4.21 4.22 4.23 4.24 4.25 4.26 4.27 4.28 4.29 4.3  4.31 4.32 4.33\n",
            " 4.34 4.35 4.36 4.37 4.38 4.39 4.4  4.41 4.42 4.43 4.44 4.45 4.46 4.47\n",
            " 4.48 4.49 4.5  4.51 4.52 4.53 4.54 4.55 4.56 4.57 4.58 4.59 4.6  4.61\n",
            " 4.62 4.63 4.64 4.65 4.66 4.67 4.68 4.69 4.7  4.71 4.72 4.73 4.74 4.75\n",
            " 4.76 4.77 4.78 4.79 4.8  4.81 4.82 4.83 4.84 4.85 4.86 4.87 4.88 4.89\n",
            " 4.9  4.91 4.92 4.93 4.94 4.95 4.96 4.97 4.98 4.99 5.   5.01 5.02 5.03\n",
            " 5.04 5.05 5.06 5.07 5.08 5.09 5.1  5.11 5.12 5.13 5.14 5.15 5.16 5.17\n",
            " 5.18 5.19 5.2  5.21 5.22 5.23 5.24 5.25 5.26 5.27 5.28 5.29 5.3  5.31\n",
            " 5.32 5.33 5.34 5.35 5.36 5.37 5.38 5.39 5.4  5.41 5.42 5.43 5.44 5.45\n",
            " 5.46 5.47 5.48 5.49 5.5  5.51 5.52 5.53 5.54 5.55 5.56 5.57 5.58 5.59\n",
            " 5.6  5.61 5.62 5.63 5.64 5.65 5.66 5.67 5.68 5.69 5.7  5.71 5.72 5.73\n",
            " 5.74 5.75 5.76 5.77 5.78 5.79 5.8  5.81 5.82 5.83 5.84 5.85 5.86 5.87\n",
            " 5.88 5.89 5.9  5.91 5.92 5.93 5.94 5.95 5.96 5.97 5.98 5.99 6.   6.01\n",
            " 6.02 6.03 6.04 6.05 6.06 6.07 6.08 6.09 6.1  6.11 6.12 6.13 6.14 6.15\n",
            " 6.16 6.17 6.18 6.19 6.2  6.21 6.22 6.23 6.24 6.25 6.26 6.27 6.28 6.29\n",
            " 6.3  6.31 6.32 6.33 6.34 6.35 6.36 6.37 6.38 6.39 6.4  6.41 6.42 6.43\n",
            " 6.44 6.45 6.46 6.47 6.48 6.49 6.5  6.51 6.52 6.53 6.54 6.55 6.56 6.57\n",
            " 6.58 6.59 6.6  6.61 6.62 6.63 6.64 6.65 6.66 6.67 6.68 6.69 6.7  6.71\n",
            " 6.72 6.73 6.74 6.75 6.76 6.77 6.78 6.79 6.8  6.81 6.82 6.83 6.84 6.85\n",
            " 6.86 6.87 6.88 6.89 6.9  6.91 6.92 6.93 6.94 6.95 6.96 6.97 6.98 6.99\n",
            " 7.   7.01 7.02 7.03 7.04 7.05 7.06 7.07 7.08 7.09 7.1  7.11 7.12 7.13\n",
            " 7.14 7.15 7.16 7.17 7.18 7.19 7.2  7.21 7.22 7.23 7.24 7.25 7.26 7.27\n",
            " 7.28 7.29 7.3  7.31 7.32 7.33 7.34 7.35 7.36 7.37 7.38 7.39 7.4  7.41\n",
            " 7.42 7.43 7.44 7.45 7.46 7.47 7.48 7.49 7.5  7.51 7.52 7.53 7.54 7.55\n",
            " 7.56 7.57 7.58 7.59 7.6  7.61 7.62 7.63 7.64 7.65 7.66 7.67 7.68 7.69\n",
            " 7.7  7.71 7.72 7.73 7.74 7.75 7.76 7.77 7.78 7.79 7.8  7.81 7.82 7.83\n",
            " 7.84 7.85 7.86 7.87 7.88 7.89 7.9  7.91 7.92 7.93 7.94 7.95 7.96 7.97\n",
            " 7.98 7.99 8.   8.01 8.02 8.03 8.04 8.05 8.06 8.07 8.08 8.09 8.1  8.11\n",
            " 8.12 8.13 8.14 8.15 8.16 8.17 8.18 8.19 8.2  8.21 8.22 8.23 8.24 8.25\n",
            " 8.26 8.27 8.28 8.29 8.3  8.31 8.32 8.33 8.34 8.35 8.36 8.37 8.38 8.39\n",
            " 8.4  8.41 8.42 8.43 8.44 8.45 8.46 8.47 8.48 8.49 8.5  8.51 8.52 8.53\n",
            " 8.54 8.55 8.56 8.57 8.58 8.59 8.6  8.61 8.62 8.63 8.64 8.65 8.66 8.67\n",
            " 8.68 8.69 8.7  8.71 8.72 8.73 8.74 8.75 8.76 8.77 8.78 8.79 8.8  8.81\n",
            " 8.82 8.83 8.84 8.85 8.86 8.87 8.88 8.89 8.9  8.91 8.92 8.93 8.94 8.95\n",
            " 8.96 8.97 8.98 8.99 9.   9.01 9.02 9.03 9.04 9.05 9.06 9.07 9.08 9.09\n",
            " 9.1  9.11 9.12 9.13 9.14 9.15 9.16 9.17 9.18 9.19 9.2  9.21 9.22 9.23\n",
            " 9.24 9.25 9.26 9.27 9.28 9.29 9.3  9.31 9.32 9.33 9.34 9.35 9.36 9.37\n",
            " 9.38 9.39 9.4  9.41 9.42 9.43 9.44 9.45 9.46 9.47 9.48 9.49 9.5  9.51\n",
            " 9.52 9.53 9.54 9.55 9.56 9.57 9.58 9.59 9.6  9.61 9.62 9.63 9.64 9.65\n",
            " 9.66 9.67 9.68 9.69 9.7  9.71 9.72 9.73 9.74 9.75 9.76 9.77 9.78 9.79\n",
            " 9.8  9.81 9.82 9.83 9.84 9.85 9.86 9.87 9.88 9.89 9.9  9.91 9.92 9.93\n",
            " 9.94 9.95 9.96 9.97 9.98 9.99]\n"
          ]
        }
      ]
    },
    {
      "cell_type": "markdown",
      "metadata": {
        "id": "gJyTk0Y_iBwC"
      },
      "source": [
        "# Defining the Fuzzy Inputs Sets"
      ]
    },
    {
      "cell_type": "code",
      "metadata": {
        "id": "DWZcOoW6iGRL"
      },
      "source": [
        "# house market value sets\n",
        "market_low = fuzz.trapmf(x_house_market, [0, 0, 50, 100])\n",
        "market_medium = fuzz.trapmf(x_house_market, [50, 100, 200, 250])\n",
        "market_high = fuzz.trapmf(x_house_market, [200, 300, 650, 850])\n",
        "market_very_high = fuzz.trapmf(x_house_market, [650, 850, 1000, 1000])\n",
        "\n",
        "# house location sets\n",
        "location_bad = fuzz.trapmf(x_house_location, [0, 0, 1.5, 4])\n",
        "location_fair = fuzz.trapmf(x_house_location, [2.5, 5, 6, 8.5])\n",
        "location_excellent = fuzz.trapmf(x_house_location, [6, 8.5, 10, 10])\n",
        "\n",
        "# person asset sets\n",
        "p_asset_low = fuzz.trimf(x_person_asset, [0, 0, 150])\n",
        "p_asset_medium = fuzz.trapmf(x_person_asset, [50, 250, 500, 650])\n",
        "p_asset_high = fuzz.trapmf(x_person_asset, [500, 700, 1000, 1000])\n",
        "\n",
        "# person income sets\n",
        "\"\"\"\n",
        "Add code here \"\"\"\"\n",
        "\n",
        "# interest sets\n",
        "b_interest_low = fuzz.trapmf(x_interest, [0, 0, 2, 5])\n",
        "b_interest_medium = fuzz.trapmf(x_interest, [2, 4, 6, 8])\n",
        "b_interest_high = fuzz.trapmf(x_interest, [6, 8.5, 10, 10])"
      ],
      "execution_count": null,
      "outputs": []
    },
    {
      "cell_type": "markdown",
      "metadata": {
        "id": "9ClGT4g5iSDH"
      },
      "source": [
        "# Showing the Defined Fuzzy Inputs"
      ]
    },
    {
      "cell_type": "code",
      "metadata": {
        "id": "lG9shggTiWX6"
      },
      "source": [
        "plt.rcParams[\"figure.figsize\"] = 15, 20\n",
        "# house market value\n",
        "plt.subplot(5,1,1), plt.plot(x_house_market, market_low, 'b', linewidth=1.5, label='Low')\n",
        "plt.subplot(5,1,1), plt.plot(x_house_market, market_medium, 'g', linewidth=1.5, label='Medium')\n",
        "plt.subplot(5,1,1), plt.plot(x_house_market, market_high, 'r', linewidth=1.5, label='High')\n",
        "plt.subplot(5,1,1), plt.plot(x_house_market, market_very_high, 'y', linewidth=1.5, label='Very High'),plt.title(\"House Market Value $ x10^3\")\n",
        "plt.legend()\n",
        "\n",
        "# house location\n",
        "plt.subplot(5,1,2), plt.plot(x_house_location, location_bad, 'b', linewidth=1.5, label='Bad')\n",
        "plt.subplot(5,1,2), plt.plot(x_house_location, location_fair, 'g', linewidth=1.5, label='Fair')\n",
        "plt.subplot(5,1,2), plt.plot(x_house_location, location_excellent, 'r', linewidth=1.5, label='Excellent'),plt.title(\"House Location\")\n",
        "plt.legend()\n",
        "\n",
        "# person Assets\n",
        "plt.subplot(5,1,3), plt.plot(x_person_asset, p_asset_low, 'b', linewidth=1.5, label='Low')\n",
        "plt.subplot(5,1,3), plt.plot(x_person_asset, p_asset_medium, 'g', linewidth=1.5, label='Medium')\n",
        "plt.subplot(5,1,3), plt.plot(x_person_asset, p_asset_high, 'r', linewidth=1.5, label='High'),plt.title(\"Person Assets $ x10^3\")\n",
        "plt.legend()\n",
        "\n",
        "# person income\n",
        "plt.subplot(5,1,4), plt.plot(x_person_income, p_income_low, 'b', linewidth=1.5, label='Low')\n",
        "plt.subplot(5,1,4), plt.plot(x_person_income, p_income_medium, 'g', linewidth=1.5, label='Medium')\n",
        "plt.subplot(5,1,4), plt.plot(x_person_income, p_income_high, 'r', linewidth=1.5, label='High')\n",
        "plt.subplot(5,1,4), plt.plot(x_person_income, p_income_very_high, 'y', linewidth=1.5, label='Very High'),plt.title(\"Person income $ x10^3\")\n",
        "plt.legend()\n",
        "\n",
        "# Interest\n",
        "plt.subplot(5,1,5), plt.plot(x_interest, b_interest_low, 'b', linewidth=1.5, label='Low')\n",
        "plt.subplot(5,1,5), plt.plot(x_interest, b_interest_medium, 'g', linewidth=1.5, label='Medium')\n",
        "plt.subplot(5,1,5), plt.plot(x_interest, b_interest_high, 'r', linewidth=1.5, label='High'),plt.title(\"Interest %\")\n",
        "plt.legend()\n",
        "\n",
        "plt.show()"
      ],
      "execution_count": null,
      "outputs": []
    },
    {
      "cell_type": "markdown",
      "metadata": {
        "id": "l69DRuRHiijF"
      },
      "source": [
        "# Defining Fuzzy Output Set Ranges"
      ]
    },
    {
      "cell_type": "code",
      "metadata": {
        "id": "nWhJQHP2ikA5"
      },
      "source": [
        "x_house = np.arange(0, 10, .01) # House evaluation range\n",
        "x_applicant = np.arange(0, 10, .01) # applicant evalutaion range\n",
        "x_credit = np.arange(0, 500, .5) # Credit evalutaion Range $ x10^3"
      ],
      "execution_count": null,
      "outputs": []
    },
    {
      "cell_type": "markdown",
      "metadata": {
        "id": "m56HRnUcirog"
      },
      "source": [
        "# Defining the Fuzzy Output Sets"
      ]
    },
    {
      "cell_type": "code",
      "metadata": {
        "id": "IgzpZvZRis5N"
      },
      "source": [
        "# house evalutation output fuzzy sets\n",
        "house_very_low = fuzz.trimf(x_house, [0, 0, 3])\n",
        "house_low = fuzz.trimf(x_house, [0, 3, 6])\n",
        "house_medium = fuzz.trimf(x_house, [2, 5, 8])\n",
        "house_high = fuzz.trimf(x_house, [4, 7, 10])\n",
        "house_very_high = fuzz.trimf(x_house, [7, 10, 10])\n",
        "\n",
        "# applicant evalutation output fuzzy sets\n",
        "applicant_low = fuzz.trapmf(x_applicant, [0, 0, 2, 4])\n",
        "applicant_medium = fuzz.trimf(x_applicant, [2, 5, 8])\n",
        "applicant_high = fuzz.trapmf(x_applicant, [6, 8, 10, 10])\n",
        "\n",
        "# credit evalutation output fuzzy sets\n",
        "\"\"\"\n",
        "Add code here \"\"\""
      ],
      "execution_count": null,
      "outputs": []
    },
    {
      "cell_type": "markdown",
      "metadata": {
        "id": "c-5J7Ccei3_s"
      },
      "source": [
        "# Showing the Defined Fuzzy Outputs"
      ]
    },
    {
      "cell_type": "code",
      "metadata": {
        "id": "5uHLldA-izF1"
      },
      "source": [
        "plt.rcParams[\"figure.figsize\"] = 15, 12\n",
        "# house evaluation\n",
        "plt.subplot(3,1,1), plt.plot(x_house, house_very_low, 'c', linewidth=1.5, label='Very Low')\n",
        "plt.subplot(3,1,1), plt.plot(x_house, house_low, 'b', linewidth=1.5, label='Low')\n",
        "plt.subplot(3,1,1), plt.plot(x_house, house_medium, 'g', linewidth=1.5, label='Medium')\n",
        "plt.subplot(3,1,1), plt.plot(x_house, house_high, 'r', linewidth=1.5, label='High')\n",
        "plt.subplot(3,1,1), plt.plot(x_house, house_very_high, 'y', linewidth=1.5, label='Very High'),plt.title(\"House Evaluation Output\")\n",
        "plt.legend()\n",
        "\n",
        "# applicant evaluation\n",
        "plt.subplot(3,1,2), plt.plot(x_applicant, applicant_low, 'b', linewidth=1.5, label='Low')\n",
        "plt.subplot(3,1,2), plt.plot(x_applicant, applicant_medium, 'g', linewidth=1.5, label='Medium')\n",
        "plt.subplot(3,1,2), plt.plot(x_applicant, applicant_high, 'r', linewidth=1.5, label='High'),plt.title(\"Applicant Evalutaion Output\")\n",
        "plt.legend()\n",
        "\n",
        "# credit evaluation\n",
        "\"\"\"\n",
        "Add code here \"\"\"\n",
        "\n",
        "plt.show()"
      ],
      "execution_count": null,
      "outputs": []
    },
    {
      "cell_type": "markdown",
      "metadata": {
        "id": "Pg4BraSyjD9D"
      },
      "source": [
        "# AND and OR helper functions\n",
        "\n",
        "*   For \"and\" we used minimum fonction to apply rules\n",
        "*   For \"or\" we used maximum function to apply rules"
      ]
    },
    {
      "cell_type": "code",
      "metadata": {
        "id": "p3mUIT5Ii_gK"
      },
      "source": [
        "def and_rule(x, y, z):\n",
        "    rule = np.fmin(x, y)\n",
        "    act = np.fmin(rule, z)\n",
        "    return act\n",
        "\n",
        "def or_rule(x, y, z):\n",
        "    rule = np.fmax(x, y)\n",
        "    act = np.fmax(rule, z)\n",
        "    return act"
      ],
      "execution_count": null,
      "outputs": []
    },
    {
      "cell_type": "markdown",
      "metadata": {
        "id": "ajQd_onzjqq4"
      },
      "source": [
        "# House Evaluation Rule base 1\n",
        "1. If (Market_value is Low) then (House is Low)\n",
        "Market_value == Low AND House == Low ==> C1\n",
        "2. If (Location is Bad) then (House is Low)\n",
        "Location == Bad AND House == Low ==> C2\n",
        "3. If (Location is Bad) and (Market_value is Low) then (House is Very_low)\n",
        "( Location == Bad AND Market_value == Low ) AND House == Very_Low ==> C3\n",
        "4. If (Location is Bad) and (Market_value is Medium) then (House is Low)\n",
        "( Location == Bad AND Market_value == Medium ) AND House == Low ==> C4\n",
        "5. If (Location is Bad) and (Market_value is High) then (House is Medium)\n",
        "( Location == Bad AND Market_value == High ) AND House == Medium ==> C5\n",
        "6. If (Location is Bad) and (Market_value is Very_high) then (House is High)\n",
        "( Location == Bad AND Market_value == Very_high ) AND House == High ==> C6\n",
        "7. If (Location is Fair) and (Market_value is Low) then (House is Low)\n",
        "( Location == Fair AND Market_value == Low ) AND House == Low ==> C7\n",
        "8. If (Location is Fair) and (Market_value is Medium) then (House is Medium)\n",
        "( Location == Fair AND Market_value == Medium ) AND House == Medium ==> C8\n",
        "9. If (Location is Fair) and (Market_value is High) then (House is High)\n",
        "( Location == Fair AND Market_value == High ) AND House == High ==> C9\n",
        "10. If (Location is Fair) and (Market_value is Very_high) then (House is Very_high)\n",
        "( Location == Fair AND Market_value == Very_high ) AND House == Very_high ==> C10\n",
        "11. If (Location is Excellent) and (Market_value is Low) then (House is Medium)\n",
        "( Location == Excellent AND Market_value == Low ) AND House == Medium ==> C11\n",
        "12. If (Location is Excellent) and (Market_value is Medium) then (House is High)\n",
        "( Location == Excellent AND Market_value == Medium ) AND House == High ==> C12\n",
        "13. If (Location is Excellent) and (Market_value is High) then (House is Very_high)\n",
        "( Location == Excellent AND Market_value == high ) AND House == Very_high ==> C13\n",
        "14. If (Location is Excellent) and (Market_value is Very_high) then (House is Very_high)\n",
        "( Location == Excellent AND Market_value == Very_high ) AND House == Very_high ==> C14"
      ]
    },
    {
      "cell_type": "code",
      "metadata": {
        "id": "5XK-uV_ojrg1"
      },
      "source": [
        "def apply_house_rules(market_value, location, verbose=0):\n",
        "    # house market value functions\n",
        "    market_level_low = fuzz.interp_membership(x_house_market, market_low, market_value)\n",
        "    market_level_medium = fuzz.interp_membership(x_house_market, market_medium, market_value)\n",
        "    market_level_high = fuzz.interp_membership(x_house_market, market_high, market_value)\n",
        "    market_level_very_high = fuzz.interp_membership(x_house_market, market_very_high, market_value)\n",
        "\n",
        "    # house location\n",
        "    location_level_bad = fuzz.interp_membership(x_house_location, location_bad, location)\n",
        "    location_level_fair = fuzz.interp_membership(x_house_location, location_fair, location)\n",
        "    location_level_excellent = fuzz.interp_membership(x_house_location, location_excellent, location)\n",
        "    \n",
        "    ### rules\n",
        "    # 1. If (Market_value is Low) then (House is Low)\n",
        "    house_act_low1 = np.fmin(market_level_low, house_low)\n",
        "    # 2. If (Location is Bad) then (House is Low)\n",
        "    house_act_low2 = np.fmin(location_level_bad, house_low)\n",
        "    # 3. If (Location is Bad) and (Market_value is Low) then (House is Very_low)\n",
        "    house_act_very_low = and_rule(location_level_bad, market_level_low, house_very_low)\n",
        "    # 4. If (Location is Bad) and (Market_value is Medium) then (House is Low)\n",
        "    house_act_low3 = and_rule(location_level_bad, market_level_medium, house_low)\n",
        "    # 5. If (Location is Bad) and (Market_value is High) then (House is Medium)\n",
        "    house_act_medium1 = and_rule(location_level_bad, market_level_high, house_medium)\n",
        "    # 6. If (Location is Bad) and (Market_value is Very_high) then (House is High)\n",
        "    house_act_high1 = and_rule(location_level_bad, market_level_very_high, house_high)\n",
        "    # 7. If (Location is Fair) and (Market_value is Low) then (House is Low)\n",
        "    house_act_low4 = and_rule(location_level_fair, market_level_low, house_low)\n",
        "    # 8. If (Location is Fair) and (Market_value is Medium) then (House is Medium)\n",
        "    house_act_medium2 = and_rule(location_level_fair, market_level_medium, house_medium)\n",
        "    # 9. If (Location is Fair) and (Market_value is High) then (House is High)\n",
        "    house_act_high2 = and_rule(location_level_fair, market_level_high, house_high)\n",
        "    # 10. If (Location is Fair) and (Market_value is Very_high) then (House is Very_high)\n",
        "    house_act_very_high1 = and_rule(location_level_fair, market_level_very_high, house_very_high)\n",
        "    # 11. If (Location is Excellent) and (Market_value is Low) then (House is Medium)\n",
        "    house_act_medium3 = and_rule(location_level_excellent, market_level_low, house_medium)\n",
        "    # 12. If (Location is Excellent) and (Market_value is Medium) then (House is High)\n",
        "    house_act_high3 = and_rule(location_level_excellent, market_level_medium, house_high)\n",
        "    # 13. If (Location is Excellent) and (Market_value is High) then (House is Very_high)\n",
        "    house_act_very_high2 = and_rule(location_level_excellent, market_level_high, house_very_high)\n",
        "    # 14. If (Location is Excellent) and (Market_value is Very_high) then (House is Very_high)\n",
        "    house_act_very_high3 = and_rule(location_level_excellent, market_level_very_high, house_very_high)\n",
        "\n",
        "    # combine the rules\n",
        "    step = or_rule(house_act_low1, house_act_low2, house_act_low3)\n",
        "    house_act_low = np.fmax(step, house_act_low4)\n",
        "    \n",
        "    house_act_medium = or_rule(house_act_medium1, house_act_medium2, house_act_medium3)\n",
        "    \n",
        "    house_act_high = or_rule(house_act_high1, house_act_high2, house_act_high3)\n",
        "    \n",
        "    house_act_very_high = or_rule(house_act_very_high1, house_act_very_high2, house_act_very_high3)\n",
        "    \n",
        "    step = or_rule(house_act_very_low, house_act_low, house_act_medium)\n",
        "    house = or_rule(step, house_act_high, house_act_very_high)\n",
        "    \n",
        "    # if we want to see the graph of the output\n",
        "    if verbose == 1:\n",
        "        plt.rcParams[\"figure.figsize\"] = 15, 4\n",
        "        plt.plot(x_house, house_very_low, 'c', linestyle='--', linewidth=1.5, label='Very Low')\n",
        "        plt.plot(x_house, house_low, 'b', linestyle='--', linewidth=1.5, label='Low')\n",
        "        plt.plot(x_house, house_medium, 'g', linestyle='--', linewidth=1.5, label='Medium')\n",
        "        plt.plot(x_house, house_high, 'r', linestyle='--', linewidth=1.5, label='High')\n",
        "        plt.plot(x_house, house_very_high, 'y', linestyle='--', linewidth=1.5, label='Very High'),plt.title(\"House Evaluation Output\")\n",
        "        plt.legend()\n",
        "\n",
        "        plt.fill_between(x_house, house, color='r')\n",
        "        plt.ylim(-0.1, 1.1)\n",
        "        plt.grid(True)\n",
        "        plt.show()\n",
        "    \n",
        "    return house"
      ],
      "execution_count": null,
      "outputs": []
    },
    {
      "cell_type": "markdown",
      "metadata": {
        "id": "vqKmB1jbkYwr"
      },
      "source": [
        "# Example Output For Rule Base 1"
      ]
    },
    {
      "cell_type": "code",
      "metadata": {
        "id": "6G2Iw02nkad4"
      },
      "source": [
        "## triying the function with example\n",
        "h_eval = apply_house_rules(250, 4, verbose=1)"
      ],
      "execution_count": null,
      "outputs": []
    },
    {
      "cell_type": "markdown",
      "metadata": {
        "id": "u2V3Ep98kop6"
      },
      "source": [
        "# Applicant Evaluation Rule base 2\n",
        "1. If (Asset is Low) and (Income is Low) then (Applicant is Low)\n",
        "( Asset == Low AND Income == Low ) AND Applicant == Low ==> C1\n",
        "2. If (Asset is Low) and (Income is Medium) then (Applicant is Low)\n",
        "( Asset == Low AND Income == Medium ) AND Applicant == Low ==> C2\n",
        "3. If (Asset is Low) and (Income is High) then (Applicant is Medium)\n",
        "( Asset == Low AND Income == High ) AND Applicant == Medium ==> C3\n",
        "4. If (Asset is Low) and (Income is Very_high) then (Applicant is High)\n",
        "( Asset == Low AND Income == Very_high ) AND Applicant == High ==> C4\n",
        "5. If (Asset is Medium) and (Income is Low) then (Applicant is Low)\n",
        "( Asset == Medium AND Income == Low ) AND Applicant == Low ==> C5\n",
        "6. If (Asset is Medium) and (Income is Medium) then (Applicant is Medium)\n",
        "( Asset == Medium AND Income == Medium ) AND Applicant == Medium ==> C6\n",
        "7. If (Asset is Medium) and (Income is High) then (Applicant is High)\n",
        "( Asset == Medium AND Income == High ) AND Applicant == High ==> C7\n",
        "8. If (Asset is Medium) and (Income is Very_high) then (Applicant is High)\n",
        "( Asset == Medium AND Income == Very_high ) AND Applicant == High ==> C8\n",
        "9. If (Asset is High) and (Income is Low) then (Applicant is Medium)\n",
        "( Asset == High AND Income == Low ) AND Applicant == Medium ==> C9\n",
        "10. If (Asset is High) and (Income is Medium) then (Applicant is Medium)\n",
        "( Asset == High AND Income == Medium ) AND Applicant == Medium ==> C10\n",
        "11. If (Asset is High) and (Income is High) then (Applicant is High)\n",
        "( Asset == High AND Income == High ) AND Applicant == High ==> C11\n",
        "12. If (Asset is High) and (Income is Very_high) then (Applicant is High)\n",
        "( Asset == High AND Income == Very_high ) AND Applicant == High ==> C12"
      ]
    },
    {
      "cell_type": "code",
      "metadata": {
        "id": "sCHV18AJk17J"
      },
      "source": [
        "def apply_applicant_rules(assets, income, verbose=0):\n",
        "    # person asset\n",
        "    p_asset_level_low = fuzz.interp_membership(x_person_asset, p_asset_low, assets)\n",
        "    p_asset_level_medium = fuzz.interp_membership(x_person_asset, p_asset_medium, assets)\n",
        "    p_asset_level_high = fuzz.interp_membership(x_person_asset, p_asset_high, assets)\n",
        "\n",
        "    # person income\n",
        "    p_income_level_low = fuzz.interp_membership(x_person_income, p_income_low, income)\n",
        "    p_income_level_medium = fuzz.interp_membership(x_person_income, p_income_medium, income)\n",
        "    p_income_level_high = fuzz.interp_membership(x_person_income, p_income_high, income)\n",
        "    p_income_level_very_high = fuzz.interp_membership(x_person_income, p_income_very_high, income)\n",
        "\n",
        "\n",
        "    # 1. If (Asset is Low) and (Income is Low) then (Applicant is Low)\n",
        "    applicant_act_low1 = and_rule(p_asset_level_low, p_income_level_low, applicant_low)\n",
        "    # 2. If (Asset is Low) and (Income is Medium) then (Applicant is Low)\n",
        "    applicant_act_low2 = and_rule(p_asset_level_low, p_income_level_medium, applicant_low)\n",
        "    # 3. If (Asset is Low) and (Income is High) then (Applicant is Medium)\n",
        "    applicant_act_medium1 = and_rule(p_asset_level_low, p_income_level_high, applicant_medium)\n",
        "    # 4. If (Asset is Low) and (Income is Very_high) then (Applicant is High)\n",
        "    applicant_act_high1 = and_rule(p_asset_level_low, p_income_level_very_high, applicant_high)\n",
        "    # 5. If (Asset is Medium) and (Income is Low) then (Applicant is Low)\n",
        "    applicant_act_low3 = and_rule(p_asset_level_medium, p_income_level_low, applicant_low)\n",
        "    # 6. If (Asset is Medium) and (Income is Medium) then (Applicant is Medium)\n",
        "    applicant_act_medium2 = and_rule(p_asset_level_medium, p_income_level_medium, applicant_medium)\n",
        "    # 7. If (Asset is Medium) and (Income is High) then (Applicant is High)\n",
        "    applicant_act_high2 = and_rule(p_asset_level_medium, p_income_level_high, applicant_high)\n",
        "    # 8. If (Asset is Medium) and (Income is Very_high) then (Applicant is High)\n",
        "    applicant_act_high3 = and_rule(p_asset_level_medium, p_income_level_very_high, applicant_high)\n",
        "    # 9. If (Asset is High) and (Income is Low) then (Applicant is Medium)\n",
        "    applicant_act_medium3 = and_rule(p_asset_level_high, p_income_level_low, applicant_medium)\n",
        "    # 10. If (Asset is High) and (Income is Medium) then (Applicant is Medium)\n",
        "    applicant_act_medium4 = and_rule(p_asset_level_high, p_income_level_medium, applicant_medium)\n",
        "    # 11. If (Asset is High) and (Income is High) then (Applicant is High)\n",
        "    applicant_act_high4 = and_rule(p_asset_level_high, p_income_level_high, applicant_high)\n",
        "    # 12. If (Asset is High) and (Income is Very_high) then (Applicant is High)\n",
        "    applicant_act_high5 = and_rule(p_asset_level_high, p_income_level_very_high, applicant_high)\n",
        "\n",
        "    # combine the rules\n",
        "    applicant_act_low = or_rule(applicant_act_low1, applicant_act_low2, applicant_act_low3)\n",
        "    \n",
        "    step = or_rule(applicant_act_medium1, applicant_act_medium2, applicant_act_medium3)\n",
        "    applicant_act_medium = np.fmax(step, applicant_act_medium4)\n",
        "    \n",
        "    step = or_rule(applicant_act_high1, applicant_act_high2, applicant_act_high3)\n",
        "    applicant_act_high = or_rule(step, applicant_act_high4, applicant_act_high5)\n",
        "    \n",
        "    applicant = or_rule(applicant_act_low, applicant_act_medium, applicant_act_high)\n",
        "    \n",
        "    # if we want to see the graph of the output\n",
        "    if verbose == 1:\n",
        "        plt.rcParams[\"figure.figsize\"] = 15, 4\n",
        "        plt.plot(x_applicant, applicant_low, 'b', linestyle='--', linewidth=1.5, label='Low')\n",
        "        plt.plot(x_applicant, applicant_medium, 'g', linestyle='--', linewidth=1.5, label='Medium')\n",
        "        plt.plot(x_applicant, applicant_high, 'r', linestyle='--', linewidth=1.5, label='High'),plt.title(\"Applicant Evalutaion Output\")\n",
        "        plt.legend()\n",
        "\n",
        "        plt.fill_between(x_applicant, applicant, color='r')\n",
        "        plt.ylim(-0.1, 1.1)\n",
        "        plt.grid(True)\n",
        "        plt.show()\n",
        "        \n",
        "    return applicant"
      ],
      "execution_count": null,
      "outputs": []
    },
    {
      "cell_type": "markdown",
      "metadata": {
        "id": "2vH38mFZlGmy"
      },
      "source": [
        "# Example Output For Rule Base 2"
      ]
    },
    {
      "cell_type": "code",
      "metadata": {
        "id": "5Rre1cYRlCNd"
      },
      "source": [
        "## triying the function with example\n",
        "a_eval = apply_applicant_rules(550, 45, verbose=1)"
      ],
      "execution_count": null,
      "outputs": []
    },
    {
      "cell_type": "markdown",
      "metadata": {
        "id": "Tt5T0ZlpmDe8"
      },
      "source": [
        "# Credit Evaluation Rule Base 3\n",
        "1. If (Income is Low) and (Interest is Medium) then (Credit is Very_low)\n",
        "( Income == Low AND Interest == Medium ) AND Credit == Very_Low ==> C1\n",
        "2. If (Income is Low) and (Interest is High) then (Credit is Very_low)\n",
        "( Income == Low AND Interest == High ) AND Credit == Very_low ==> C2\n",
        "3. If (Income is Medium) and (Interest is High) then (Credit is Low)\n",
        "( Income == Medium AND Interest == High ) AND Credit == Low ==> C3\n",
        "4. If (Applicant is Low) then (Credit is Very_low)\n",
        "Applicant == Low AND Credit == Very_low ==> C4\n",
        "5. If (House is Very_low) then (Credit is Very_low)\n",
        "House == Very_low AND Credit == Very_low ==> C5\n",
        "6. If (Applicant is Medium) and (House is Very_low) then (Credit is Low)\n",
        "( Applicant == Medium AND House == Very_low ) AND Credit == Low ==> C6\n",
        "7. If (Applicant is Medium) and (House is Low) then (Credit is Low)\n",
        "( Applicant == Medium AND House == Low ) AND Credit == Low ==> C7\n",
        "8. If (Applicant is Medium) and (House is Medium) then (Credit is Medium)\n",
        "( Applicant == Medium AND House == Medium ) AND Credit == Medium ==> C8\n",
        "9. If (Applicant is Medium) and (House is High) then (Credit is High)\n",
        "( Applicant == Medium AND House == High ) AND Credit == High ==> C9\n",
        "10. If (Applicant is Medium) and (House is Very_high) then (Credit is High)\n",
        "( Applicant == Medium AND House == Very_high ) AND Credit == High ==> C10\n",
        "11. If (Applicant is High) and (House is Very_low) then (Credit is Low)\n",
        "( Applicant == High AND House == Very_low ) AND Credit == Low ==> C11\n",
        "12. If (Applicant is High) and (House is Low) then (Credit is Medium)\n",
        "( Applicant == High AND House == Low ) AND Credit == Medium ==> C12\n",
        "13. If (Applicant is High) and (House is Medium) then (Credit is High)\n",
        "( Applicant == High AND House == Medium ) AND Credit == High ==> C13\n",
        "14. If (Applicant is High) and (House is High) then (Credit is High)\n",
        "( Applicant == High AND House == High ) AND Credit == High ==> C14\n",
        "15. If (Applicant is High) and (House is Very_high) then (Credit is Very_high)\n",
        "( Applicant == High AND House == Very_high ) AND Credit == Very_high ==> C15"
      ]
    },
    {
      "cell_type": "code",
      "metadata": {
        "id": "dCaeRDtIjZmZ"
      },
      "source": [
        "def apply_credit_rules(house, income, interest, applicant):\n",
        "    # house\n",
        "    house_level_very_low = np.fmin(house, house_low)\n",
        "    house_level_low = np.fmin(house, house_low)\n",
        "    house_level_medium = np.fmin(house, house_medium)\n",
        "    house_level_high = np.fmin(house, house_high)\n",
        "    house_level_very_high = np.fmin(house, house_very_high)\n",
        "    \n",
        "    # person income\n",
        "    p_income_level_low = fuzz.interp_membership(x_person_income, p_income_low, income)\n",
        "    p_income_level_medium = fuzz.interp_membership(x_person_income, p_income_medium, income)\n",
        "    p_income_level_high = fuzz.interp_membership(x_person_income, p_income_high, income)\n",
        "    p_income_level_very_high = fuzz.interp_membership(x_person_income, p_income_very_high, income)\n",
        "\n",
        "    # interest\n",
        "    b_interest_level_low = fuzz.interp_membership(x_interest, b_interest_low, interest)\n",
        "    b_interest_level_medium = fuzz.interp_membership(x_interest, b_interest_medium, interest)\n",
        "    b_interest_level_high = fuzz.interp_membership(x_interest, b_interest_high, interest)\n",
        "    \n",
        "    # applicant\n",
        "    applicant_level_low = np.fmin(applicant, applicant_low)\n",
        "    applicant_level_medium = np.fmin(applicant, applicant_medium)\n",
        "    applicant_level_high = np.fmin(applicant, applicant_high)\n",
        "\n",
        "    # 1. If (Income is Low) and (Interest is Medium) then (Credit is Very_low)\n",
        "    credit_act_very_low1 = and_rule(p_income_level_low, b_interest_level_medium, credit_very_low)\n",
        "    # 2. If (Income is Low) and (Interest is High) then (Credit is Very_low)\n",
        "    credit_act_very_low2 = and_rule(p_income_level_low, b_interest_level_high, credit_very_low)\n",
        "    # 3. If (Income is Medium) and (Interest is High) then (Credit is Low)\n",
        "    credit_act_low1 = and_rule(p_income_level_medium, b_interest_level_high, credit_low)\n",
        "    # 4. If (Applicant is Low) then (Credit is Very_low)\n",
        "    credit_act_very_low3 = np.fmin(applicant_level_low, credit_very_low)\n",
        "    # 5. If (House is Very_low) then (Credit is Very_low)\n",
        "    credit_act_very_low4 = np.fmin(house_level_very_low, credit_very_low)\n",
        "    # 6. If (Applicant is Medium) and (House is Very_low) then (Credit is Low)\n",
        "    credit_act_low2 = and_rule(applicant_level_medium, house_level_very_low, credit_low)\n",
        "    # 7. If (Applicant is Medium) and (House is Low) then (Credit is Low)\n",
        "    credit_act_low3 = and_rule(applicant_level_medium, house_level_low, credit_low)\n",
        "    # 8. If (Applicant is Medium) and (House is Medium) then (Credit is Medium)\n",
        "    credit_act_medium1 = and_rule(applicant_level_medium, house_level_medium, credit_medium)\n",
        "    # 9. If (Applicant is Medium) and (House is High) then (Credit is High)\n",
        "    credit_act_high1 = and_rule(applicant_level_medium, house_level_high, credit_high)\n",
        "    # 10. If (Applicant is Medium) and (House is Very_high) then (Credit is High)\n",
        "    credit_act_high2 = and_rule(applicant_level_medium, house_level_very_high, credit_high)\n",
        "    # 11. If (Applicant is High) and (House is Very_low) then (Credit is Low)\n",
        "    credit_act_low4 = and_rule(applicant_level_high, house_level_very_low, credit_low)\n",
        "    # 12. If (Applicant is High) and (House is Low) then (Credit is Medium)\n",
        "    credit_act_medium2 = and_rule(applicant_level_high, house_level_low, credit_medium)\n",
        "    # 13. If (Applicant is High) and (House is Medium) then (Credit is High)\n",
        "    credit_act_high3 = and_rule(applicant_level_high, house_level_medium, credit_high)\n",
        "    # 14. If (Applicant is High) and (House is High) then (Credit is High)\n",
        "    credit_act_high4 = and_rule(applicant_level_high, house_level_high, credit_high)\n",
        "    # 15. If (Applicant is High) and (House is Very_high) then (Credit is Very_high)\n",
        "    credit_act_very_high = and_rule(applicant_level_high, house_level_very_high, credit_very_high)\n",
        "    \n",
        "    \n",
        "    step = or_rule(credit_act_very_low1, credit_act_very_low2, credit_act_very_low3)\n",
        "    credit_act_very_low = np.fmax(step, credit_act_very_low4)\n",
        "    \n",
        "    step = or_rule(credit_act_low1, credit_act_low2, credit_act_low3)\n",
        "    credit_act_low = np.fmax(step, credit_act_low4)\n",
        "    \n",
        "    credit_act_medium = np.fmax(credit_act_medium1, credit_act_medium2)\n",
        "    \n",
        "    step = or_rule(credit_act_high1, credit_act_high2, credit_act_high3)\n",
        "    credit_act_high = np.fmax(step, credit_act_high4) \n",
        "    # credit_act_very_high there is just one\n",
        "    \n",
        "    step = or_rule(credit_act_very_low, credit_act_low, credit_act_medium)\n",
        "    credit = or_rule(step, credit_act_high, credit_act_very_high)\n",
        "    \n",
        "    return credit"
      ],
      "execution_count": null,
      "outputs": []
    },
    {
      "cell_type": "markdown",
      "metadata": {
        "id": "rwIsmTG3mgpJ"
      },
      "source": [
        "# Example Output For Base 3"
      ]
    },
    {
      "cell_type": "code",
      "metadata": {
        "id": "S5nhyR38mjcD"
      },
      "source": [
        "# triying the function with example\n",
        "credit_eval = apply_credit_rules(h_eval, 45, 4, a_eval)\n",
        "\n",
        "plt.rcParams[\"figure.figsize\"] = 15, 4\n",
        "plt.plot(x_credit, credit_very_low, 'c', linestyle='--', linewidth=1.5, label='Very Low')\n",
        "plt.plot(x_credit, credit_low, 'b', linestyle='--', linewidth=1.5, label='Low')\n",
        "plt.plot(x_credit, credit_medium, 'g', linestyle='--', linewidth=1.5, label='Medium')\n",
        "plt.plot(x_credit, credit_high, 'r', linestyle='--', linewidth=1.5, label='High')\n",
        "plt.plot(x_credit, credit_very_high, 'y', linestyle='--', linewidth=1.5, label='Very High'),plt.title(\"Credit Value $ x10^3\")\n",
        "plt.legend()\n",
        "\n",
        "plt.fill_between(x_credit, credit_eval)\n",
        "plt.ylim(-0.1, 1.1)\n",
        "plt.grid(True)\n",
        "plt.show()"
      ],
      "execution_count": null,
      "outputs": []
    },
    {
      "cell_type": "markdown",
      "metadata": {
        "id": "hnD3lLjEmpso"
      },
      "source": [
        "# Calling the ruleing functions sequentialy"
      ]
    },
    {
      "cell_type": "code",
      "metadata": {
        "id": "eo2nl9rSmrNx"
      },
      "source": [
        "def apply_all_rules(market_value, location, assets, income, interest, verbose=0):\n",
        "    house = apply_house_rules(market_value, location, verbose)\n",
        "    applicant = apply_applicant_rules(assets,income, verbose)\n",
        "    credit = apply_credit_rules(house, income, interest, applicant)\n",
        "    return credit"
      ],
      "execution_count": null,
      "outputs": []
    },
    {
      "cell_type": "markdown",
      "metadata": {
        "id": "ElFjeUhHm2LM"
      },
      "source": [
        "# Making a Decision\n",
        "\n",
        "\n",
        "*   After all the rules applied, we defuzify the output of the rules with mean of maximum and we generate a single value as a decision of the system\n",
        "\n"
      ]
    },
    {
      "cell_type": "code",
      "metadata": {
        "id": "tYyuS10im3Hd"
      },
      "source": [
        "def make_decision(market_value, location, assets, income, interest, verbose=0):\n",
        "    credit = apply_all_rules(market_value, location, assets, income, interest, verbose)\n",
        "    # defuzzification with mean of maximum\n",
        "    defuzz_credit = fuzz.defuzz(x_credit, credit, 'mom')\n",
        "    max_n = np.max(credit)\n",
        "\n",
        "    if (verbose == 1):\n",
        "        plt.rcParams[\"figure.figsize\"] = 15, 4\n",
        "        plt.plot(x_credit, credit_very_low, 'c', linestyle='--', linewidth=1.5, label='Very Low')\n",
        "        plt.plot(x_credit, credit_low, 'b', linestyle='--', linewidth=1.5, label='Low')\n",
        "        plt.plot(x_credit, credit_medium, 'g', linestyle='--', linewidth=1.5, label='Medium')\n",
        "        plt.plot(x_credit, credit_high, 'r', linestyle='--', linewidth=1.5, label='High')\n",
        "        plt.plot(x_credit, credit_very_high, 'y', linestyle='--', linewidth=1.5, label='Very High'),plt.title(\"Credit Value $ x10^3\")\n",
        "        plt.legend()\n",
        "\n",
        "        plt.fill_between(x_credit, credit, color='b')\n",
        "        plt.ylim(-0.1, 1.1)\n",
        "        plt.grid(True)\n",
        "\n",
        "        plt.plot(defuzz_credit, max_n, 'X', color='r')\n",
        "        plt.show()\n",
        "\n",
        "    print (\"Output: \", defuzz_credit, \"x10^3 $\")\n",
        "    return defuzz_credit"
      ],
      "execution_count": null,
      "outputs": []
    },
    {
      "cell_type": "code",
      "metadata": {
        "id": "CpT7UXcHnJCV"
      },
      "source": [
        "\"\"\" Add code here \"\"\""
      ],
      "execution_count": null,
      "outputs": []
    }
  ]
}