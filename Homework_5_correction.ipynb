{
  "nbformat": 4,
  "nbformat_minor": 0,
  "metadata": {
    "colab": {
      "name": "Homework 5 correction.ipynb",
      "provenance": [],
      "collapsed_sections": []
    },
    "kernelspec": {
      "name": "python3",
      "display_name": "Python 3"
    },
    "language_info": {
      "name": "python"
    }
  },
  "cells": [
    {
      "cell_type": "code",
      "metadata": {
        "colab": {
          "base_uri": "https://localhost:8080/"
        },
        "id": "k_FGRyE--HQ6",
        "outputId": "33df6ceb-48bf-4c65-b132-6d934f345a25"
      },
      "source": [
        "from google.colab import drive\n",
        "drive.mount('/content/drive')\n",
        "cd='/content/drive/My Drive/Colab Notebooks/'\n",
        "%cd /content/drive/My Drive/Colab Notebooks/\n",
        "import numpy as np\n",
        "import os, cv2\n",
        "from sklearn.model_selection import train_test_split\n",
        "from tensorflow.keras.utils import to_categorical\n",
        "\n",
        "import keras \n",
        "from keras.models import Sequential\n",
        "from keras.layers import Input, Dense, Dropout\n",
        "from tensorflow.keras.optimizers import Adam"
      ],
      "execution_count": null,
      "outputs": [
        {
          "output_type": "stream",
          "name": "stdout",
          "text": [
            "Drive already mounted at /content/drive; to attempt to forcibly remount, call drive.mount(\"/content/drive\", force_remount=True).\n",
            "/content/drive/My Drive/Colab Notebooks\n"
          ]
        }
      ]
    },
    {
      "cell_type": "code",
      "metadata": {
        "colab": {
          "base_uri": "https://localhost:8080/"
        },
        "id": "gaKrbxOr-MbK",
        "outputId": "a6a3627d-dc86-48c5-ab3d-b0f43679fc8c"
      },
      "source": [
        "data_path = '/content/drive/MyDrive/Colab Notebooks/CK+48'\n",
        "data_dir_list = os.listdir(data_path)\n",
        "img_data_list=[]\n",
        "labels_list=[]\n",
        "class_value=0 #i is the label \n",
        "for dataset in data_dir_list:\n",
        "    img_list=os.listdir(data_path+'/'+ dataset)\n",
        "    print ('Loaded the images of dataset-'+'{}\\n'.format(dataset))\n",
        "    for img in img_list:\n",
        "        # Using 0 to read image in grayscale mode\n",
        "        input_img=cv2.imread(data_path + '/'+ dataset + '/'+ img, 0 )\n",
        "        #input_img=cv2.cvtColor(input_img, cv2.COLOR_BGR2GRAY)\n",
        "        #input_img_resize=cv2.resize(input_img,(48,48))\n",
        "        img_data_list.append(input_img)\n",
        "        labels_list.append(class_value)\n",
        "    class_value+=1\n",
        "        \n",
        "img_data_list = np.array(img_data_list)\n",
        "img_data_list = img_data_list.astype('float32')\n",
        "img_data_list = img_data_list/np.amax(img_data_list)#normalize data by dividing each pixel value by the maximum\n",
        "img_data_list.shape #The dataset contains 750 images, each image is a 2D shape 48x48"
      ],
      "execution_count": null,
      "outputs": [
        {
          "output_type": "stream",
          "name": "stdout",
          "text": [
            "Loaded the images of dataset-surprise\n",
            "\n",
            "Loaded the images of dataset-anger\n",
            "\n",
            "Loaded the images of dataset-sadness\n",
            "\n",
            "Loaded the images of dataset-fear\n",
            "\n",
            "Loaded the images of dataset-happy\n",
            "\n"
          ]
        },
        {
          "output_type": "execute_result",
          "data": {
            "text/plain": [
              "(750, 48, 48)"
            ]
          },
          "metadata": {},
          "execution_count": 2
        }
      ]
    },
    {
      "cell_type": "code",
      "metadata": {
        "colab": {
          "base_uri": "https://localhost:8080/"
        },
        "id": "3aG4-LpSXJ-5",
        "outputId": "13b3575e-7a0a-4b44-aa9a-83d998fa107e"
      },
      "source": [
        "labels = np.array(labels_list)\n",
        "labels = labels.astype('int32')\n",
        "print(labels.shape)"
      ],
      "execution_count": null,
      "outputs": [
        {
          "output_type": "stream",
          "name": "stdout",
          "text": [
            "(750,)\n"
          ]
        }
      ]
    },
    {
      "cell_type": "code",
      "metadata": {
        "colab": {
          "base_uri": "https://localhost:8080/"
        },
        "id": "t6UZqW08zmhn",
        "outputId": "ee1a0df3-c86f-4d3d-e9ed-ed412bf255ad"
      },
      "source": [
        "#Reshape images to 1D\n",
        "img_data_list=np.reshape(img_data_list, newshape=(img_data_list.shape[0],-1))\n",
        "img_data_list.shape"
      ],
      "execution_count": null,
      "outputs": [
        {
          "output_type": "execute_result",
          "data": {
            "text/plain": [
              "(750, 2304)"
            ]
          },
          "metadata": {},
          "execution_count": 6
        }
      ]
    },
    {
      "cell_type": "code",
      "metadata": {
        "id": "aVlf6aAZzm9U"
      },
      "source": [
        "x_train, x_test, y_train, y_test = train_test_split(img_data_list, labels, test_size=0.2)\n",
        "x_train, x_valid, y_train, y_valid = train_test_split(x_train, y_train, test_size=0.2)\n",
        "\n",
        "y_train = to_categorical(y_train, 5)\n",
        "y_valid = to_categorical(y_valid, 5)\n",
        "y_test = to_categorical(y_test, 5)"
      ],
      "execution_count": null,
      "outputs": []
    },
    {
      "cell_type": "code",
      "metadata": {
        "colab": {
          "base_uri": "https://localhost:8080/"
        },
        "id": "Ra4srvr2zak0",
        "outputId": "dd06b805-5fae-4920-aaeb-605b41cd9b81"
      },
      "source": [
        "model = Sequential()\n",
        "model.add(Input(2304)) #reshaped input from 2 D 48x48 to 1D (48*48)=2304\n",
        "model.add(Dense(1024, activation = 'relu'))\n",
        "model.add(Dense(128, activation = 'relu'))\n",
        "model.add(Dropout(0.5))\n",
        "model.add(Dense(5, activation = 'softmax'))\n",
        "model.summary()"
      ],
      "execution_count": null,
      "outputs": [
        {
          "output_type": "stream",
          "name": "stdout",
          "text": [
            "Model: \"sequential\"\n",
            "_________________________________________________________________\n",
            "Layer (type)                 Output Shape              Param #   \n",
            "=================================================================\n",
            "dense (Dense)                (None, 1024)              2360320   \n",
            "_________________________________________________________________\n",
            "dense_1 (Dense)              (None, 128)               131200    \n",
            "_________________________________________________________________\n",
            "dropout (Dropout)            (None, 128)               0         \n",
            "_________________________________________________________________\n",
            "dense_2 (Dense)              (None, 5)                 645       \n",
            "=================================================================\n",
            "Total params: 2,492,165\n",
            "Trainable params: 2,492,165\n",
            "Non-trainable params: 0\n",
            "_________________________________________________________________\n"
          ]
        }
      ]
    },
    {
      "cell_type": "code",
      "metadata": {
        "id": "ps0hsa3Jt3qr",
        "colab": {
          "base_uri": "https://localhost:8080/"
        },
        "outputId": "78869e1a-ba67-482d-a4d0-82aed5174a9b"
      },
      "source": [
        "model.compile(loss='categorical_crossentropy', metrics=['accuracy'], optimizer=Adam())\n",
        "mlp_training = model.fit(x_train, y_train, batch_size=32, epochs=50, verbose=1, validation_data=(x_valid, y_valid))"
      ],
      "execution_count": null,
      "outputs": [
        {
          "output_type": "stream",
          "name": "stdout",
          "text": [
            "Epoch 1/50\n",
            "15/15 [==============================] - 1s 22ms/step - loss: 1.0822 - accuracy: 0.5417 - val_loss: 0.8446 - val_accuracy: 0.7167\n",
            "Epoch 2/50\n",
            "15/15 [==============================] - 0s 14ms/step - loss: 0.9748 - accuracy: 0.5479 - val_loss: 0.7879 - val_accuracy: 0.6417\n",
            "Epoch 3/50\n",
            "15/15 [==============================] - 0s 13ms/step - loss: 0.9035 - accuracy: 0.6187 - val_loss: 0.7521 - val_accuracy: 0.7333\n",
            "Epoch 4/50\n",
            "15/15 [==============================] - 0s 13ms/step - loss: 0.8484 - accuracy: 0.6104 - val_loss: 0.6929 - val_accuracy: 0.6333\n",
            "Epoch 5/50\n",
            "15/15 [==============================] - 0s 13ms/step - loss: 0.8390 - accuracy: 0.6333 - val_loss: 0.6117 - val_accuracy: 0.7833\n",
            "Epoch 6/50\n",
            "15/15 [==============================] - 0s 13ms/step - loss: 0.7683 - accuracy: 0.6812 - val_loss: 0.6206 - val_accuracy: 0.7583\n",
            "Epoch 7/50\n",
            "15/15 [==============================] - 0s 13ms/step - loss: 0.8075 - accuracy: 0.6500 - val_loss: 0.6971 - val_accuracy: 0.7583\n",
            "Epoch 8/50\n",
            "15/15 [==============================] - 0s 14ms/step - loss: 0.7632 - accuracy: 0.6938 - val_loss: 0.5897 - val_accuracy: 0.7667\n",
            "Epoch 9/50\n",
            "15/15 [==============================] - 0s 14ms/step - loss: 0.7412 - accuracy: 0.6792 - val_loss: 0.5967 - val_accuracy: 0.7417\n",
            "Epoch 10/50\n",
            "15/15 [==============================] - 0s 13ms/step - loss: 0.7208 - accuracy: 0.6875 - val_loss: 0.5222 - val_accuracy: 0.8000\n",
            "Epoch 11/50\n",
            "15/15 [==============================] - 0s 15ms/step - loss: 0.8013 - accuracy: 0.6667 - val_loss: 0.7397 - val_accuracy: 0.7000\n",
            "Epoch 12/50\n",
            "15/15 [==============================] - 0s 15ms/step - loss: 0.7999 - accuracy: 0.6583 - val_loss: 0.5829 - val_accuracy: 0.7583\n",
            "Epoch 13/50\n",
            "15/15 [==============================] - 0s 15ms/step - loss: 0.7234 - accuracy: 0.6896 - val_loss: 0.5329 - val_accuracy: 0.7833\n",
            "Epoch 14/50\n",
            "15/15 [==============================] - 0s 13ms/step - loss: 0.6903 - accuracy: 0.7083 - val_loss: 0.4719 - val_accuracy: 0.8500\n",
            "Epoch 15/50\n",
            "15/15 [==============================] - 0s 14ms/step - loss: 0.7139 - accuracy: 0.6792 - val_loss: 0.5208 - val_accuracy: 0.7750\n",
            "Epoch 16/50\n",
            "15/15 [==============================] - 0s 14ms/step - loss: 0.6860 - accuracy: 0.7021 - val_loss: 0.5547 - val_accuracy: 0.7583\n",
            "Epoch 17/50\n",
            "15/15 [==============================] - 0s 13ms/step - loss: 0.6596 - accuracy: 0.7083 - val_loss: 0.4741 - val_accuracy: 0.7667\n",
            "Epoch 18/50\n",
            "15/15 [==============================] - 0s 14ms/step - loss: 0.7035 - accuracy: 0.6958 - val_loss: 0.4603 - val_accuracy: 0.8000\n",
            "Epoch 19/50\n",
            "15/15 [==============================] - 0s 13ms/step - loss: 0.6476 - accuracy: 0.7042 - val_loss: 0.4831 - val_accuracy: 0.8333\n",
            "Epoch 20/50\n",
            "15/15 [==============================] - 0s 14ms/step - loss: 0.6028 - accuracy: 0.7500 - val_loss: 0.4515 - val_accuracy: 0.8667\n",
            "Epoch 21/50\n",
            "15/15 [==============================] - 0s 14ms/step - loss: 0.6237 - accuracy: 0.7583 - val_loss: 0.5181 - val_accuracy: 0.7750\n",
            "Epoch 22/50\n",
            "15/15 [==============================] - 0s 13ms/step - loss: 0.6400 - accuracy: 0.7604 - val_loss: 0.4637 - val_accuracy: 0.8083\n",
            "Epoch 23/50\n",
            "15/15 [==============================] - 0s 15ms/step - loss: 0.6617 - accuracy: 0.7188 - val_loss: 0.4916 - val_accuracy: 0.7917\n",
            "Epoch 24/50\n",
            "15/15 [==============================] - 0s 13ms/step - loss: 0.5526 - accuracy: 0.7771 - val_loss: 0.4700 - val_accuracy: 0.8583\n",
            "Epoch 25/50\n",
            "15/15 [==============================] - 0s 14ms/step - loss: 0.5251 - accuracy: 0.7729 - val_loss: 0.3679 - val_accuracy: 0.8833\n",
            "Epoch 26/50\n",
            "15/15 [==============================] - 0s 13ms/step - loss: 0.5257 - accuracy: 0.8083 - val_loss: 0.3263 - val_accuracy: 0.9167\n",
            "Epoch 27/50\n",
            "15/15 [==============================] - 0s 13ms/step - loss: 0.4844 - accuracy: 0.8125 - val_loss: 0.3690 - val_accuracy: 0.8750\n",
            "Epoch 28/50\n",
            "15/15 [==============================] - 0s 14ms/step - loss: 0.4648 - accuracy: 0.8375 - val_loss: 0.3169 - val_accuracy: 0.9083\n",
            "Epoch 29/50\n",
            "15/15 [==============================] - 0s 14ms/step - loss: 0.4701 - accuracy: 0.8000 - val_loss: 0.3433 - val_accuracy: 0.8833\n",
            "Epoch 30/50\n",
            "15/15 [==============================] - 0s 14ms/step - loss: 0.4141 - accuracy: 0.8229 - val_loss: 0.3254 - val_accuracy: 0.8833\n",
            "Epoch 31/50\n",
            "15/15 [==============================] - 0s 13ms/step - loss: 0.4244 - accuracy: 0.8396 - val_loss: 0.2807 - val_accuracy: 0.9250\n",
            "Epoch 32/50\n",
            "15/15 [==============================] - 0s 13ms/step - loss: 0.3894 - accuracy: 0.8562 - val_loss: 0.2197 - val_accuracy: 0.9500\n",
            "Epoch 33/50\n",
            "15/15 [==============================] - 0s 14ms/step - loss: 0.3296 - accuracy: 0.8771 - val_loss: 0.2713 - val_accuracy: 0.9000\n",
            "Epoch 34/50\n",
            "15/15 [==============================] - 0s 13ms/step - loss: 0.3169 - accuracy: 0.8833 - val_loss: 0.2532 - val_accuracy: 0.8917\n",
            "Epoch 35/50\n",
            "15/15 [==============================] - 0s 13ms/step - loss: 0.2519 - accuracy: 0.8917 - val_loss: 0.1983 - val_accuracy: 0.8917\n",
            "Epoch 36/50\n",
            "15/15 [==============================] - 0s 14ms/step - loss: 0.2544 - accuracy: 0.9104 - val_loss: 0.1519 - val_accuracy: 0.9583\n",
            "Epoch 37/50\n",
            "15/15 [==============================] - 0s 14ms/step - loss: 0.3173 - accuracy: 0.8958 - val_loss: 0.1945 - val_accuracy: 0.9333\n",
            "Epoch 38/50\n",
            "15/15 [==============================] - 0s 13ms/step - loss: 0.2594 - accuracy: 0.9062 - val_loss: 0.2642 - val_accuracy: 0.8833\n",
            "Epoch 39/50\n",
            "15/15 [==============================] - 0s 13ms/step - loss: 0.2697 - accuracy: 0.8938 - val_loss: 0.1983 - val_accuracy: 0.9083\n",
            "Epoch 40/50\n",
            "15/15 [==============================] - 0s 14ms/step - loss: 0.3236 - accuracy: 0.8854 - val_loss: 0.3246 - val_accuracy: 0.8667\n",
            "Epoch 41/50\n",
            "15/15 [==============================] - 0s 14ms/step - loss: 0.4657 - accuracy: 0.8417 - val_loss: 0.4281 - val_accuracy: 0.8333\n",
            "Epoch 42/50\n",
            "15/15 [==============================] - 0s 14ms/step - loss: 0.3292 - accuracy: 0.8729 - val_loss: 0.2170 - val_accuracy: 0.9333\n",
            "Epoch 43/50\n",
            "15/15 [==============================] - 0s 13ms/step - loss: 0.2679 - accuracy: 0.8833 - val_loss: 0.1973 - val_accuracy: 0.9250\n",
            "Epoch 44/50\n",
            "15/15 [==============================] - 0s 13ms/step - loss: 0.2274 - accuracy: 0.9271 - val_loss: 0.1419 - val_accuracy: 0.9417\n",
            "Epoch 45/50\n",
            "15/15 [==============================] - 0s 14ms/step - loss: 0.1839 - accuracy: 0.9292 - val_loss: 0.1204 - val_accuracy: 0.9667\n",
            "Epoch 46/50\n",
            "15/15 [==============================] - 0s 13ms/step - loss: 0.1850 - accuracy: 0.9354 - val_loss: 0.0931 - val_accuracy: 0.9917\n",
            "Epoch 47/50\n",
            "15/15 [==============================] - 0s 14ms/step - loss: 0.2233 - accuracy: 0.9208 - val_loss: 0.1221 - val_accuracy: 0.9583\n",
            "Epoch 48/50\n",
            "15/15 [==============================] - 0s 13ms/step - loss: 0.1489 - accuracy: 0.9479 - val_loss: 0.1114 - val_accuracy: 0.9583\n",
            "Epoch 49/50\n",
            "15/15 [==============================] - 0s 14ms/step - loss: 0.1911 - accuracy: 0.9250 - val_loss: 0.0910 - val_accuracy: 0.9917\n",
            "Epoch 50/50\n",
            "15/15 [==============================] - 0s 15ms/step - loss: 0.2283 - accuracy: 0.9042 - val_loss: 0.2038 - val_accuracy: 0.9000\n"
          ]
        }
      ]
    },
    {
      "cell_type": "code",
      "metadata": {
        "colab": {
          "base_uri": "https://localhost:8080/"
        },
        "id": "JTsEcgFrz4yb",
        "outputId": "4e078830-4201-4ebf-d93a-b02d44bffb39"
      },
      "source": [
        "score = model.evaluate(x_test, y_test, verbose=0)\n",
        "print('Test Loss:', score[0])\n",
        "print('Test accuracy:', score[1])"
      ],
      "execution_count": null,
      "outputs": [
        {
          "output_type": "stream",
          "name": "stdout",
          "text": [
            "Test Loss: 0.24340230226516724\n",
            "Test accuracy: 0.8999999761581421\n"
          ]
        }
      ]
    }
  ]
}