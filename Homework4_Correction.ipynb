{
  "nbformat": 4,
  "nbformat_minor": 0,
  "metadata": {
    "colab": {
      "name": "Homework4_Correction.ipynb",
      "provenance": [],
      "collapsed_sections": []
    },
    "kernelspec": {
      "name": "python3",
      "display_name": "Python 3"
    },
    "language_info": {
      "name": "python"
    }
  },
  "cells": [
    {
      "cell_type": "code",
      "metadata": {
        "id": "AYfggcZ57f_n"
      },
      "source": [
        "import numpy as np\n",
        "import matplotlib.pyplot as plt\n",
        "from sklearn import datasets\n",
        "from sklearn.metrics import mean_squared_error, r2_score\n",
        "\n",
        "# Load the diabetes dataset\n",
        "diabetes_X, diabetes_y = datasets.load_diabetes(return_X_y=True)"
      ],
      "execution_count": null,
      "outputs": []
    },
    {
      "cell_type": "code",
      "metadata": {
        "id": "rc8syWg26sfZ"
      },
      "source": [
        "num_features=diabetes_X.shape[1]\n",
        "training_size=diabetes_X.shape[0]\n",
        "bias=1\n",
        "error=[]"
      ],
      "execution_count": null,
      "outputs": []
    },
    {
      "cell_type": "code",
      "metadata": {
        "id": "zPenc0M16-F0"
      },
      "source": [
        "#The ADALINE weight update rule\n",
        "def weight_update(weight_vec,err_val,input_vec,lr):\n",
        "    wlen=len(weight_vec)-1\n",
        "    change=2.0*lr*err_val\n",
        "    for i in range(wlen):\n",
        "        weight_vec[i]+=change*input_vec[i]\n",
        "    #The weight update rule for the bias\n",
        "    weight_vec[-1]+=change\n",
        "    return weight_vec"
      ],
      "execution_count": null,
      "outputs": []
    },
    {
      "cell_type": "code",
      "metadata": {
        "id": "0D5haJdr7DWA"
      },
      "source": [
        "def main():\n",
        "    weight_vec=np.random.random_sample(num_features)         #initializing a random weight vector\n",
        "    lr=0.1               #initializing choices for tuning the learning rate\n",
        "    n_iterations=100\n",
        "    weight_vec=np.random.random_sample(num_features)\n",
        "    weight_vec = np.append(weight_vec,bias)\n",
        "    #The following code tries out various learning rates to find the best one.\n",
        "    for k in range(n_iterations):\n",
        "        for i in range(diabetes_y.shape[0]): \n",
        "            true=diabetes_y[i]\n",
        "            pred = 0\n",
        "            for j in range(num_features):\n",
        "                pred+=(diabetes_X[i][j]*weight_vec[j])\n",
        "            pred+=weight_vec[-1]\n",
        "            err_val=true-pred  #computing error of the prediction\n",
        "            #error.append(np.abs(err_val))\n",
        "            error.append(err_val)\n",
        "            weight_vec=weight_update(weight_vec,err_val,diabetes_X[i],lr)  #updating the weight vector suitably\n",
        "         \n",
        "    return weight_vec          #returns the final updated weight vector\n",
        "        \n",
        "weight_vec=main()"
      ],
      "execution_count": null,
      "outputs": []
    },
    {
      "cell_type": "code",
      "metadata": {
        "colab": {
          "base_uri": "https://localhost:8080/"
        },
        "id": "hUCPe7S88h02",
        "outputId": "19e66a92-2b60-420a-cc8c-673b33de7478"
      },
      "source": [
        "print(np.mean(error))"
      ],
      "execution_count": null,
      "outputs": [
        {
          "output_type": "stream",
          "name": "stdout",
          "text": [
            "0.016374314450130274\n"
          ]
        }
      ]
    }
  ]
}